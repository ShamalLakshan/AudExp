{
 "cells": [
  {
   "cell_type": "markdown",
   "id": "cb824c28",
   "metadata": {},
   "source": [
    "# Audio Enhancer Using Spectral Painting"
   ]
  },
  {
   "cell_type": "code",
   "execution_count": 1,
   "id": "04094aa2-5465-4112-880d-63c0545a2feb",
   "metadata": {},
   "outputs": [],
   "source": [
    "import librosa\n",
    "import numpy as np\n",
    "import soundfile as sf\n",
    "import matplotlib.pyplot as plt"
   ]
  }
 ],
 "metadata": {
  "kernelspec": {
   "display_name": "Python 3 (ipykernel)",
   "language": "python",
   "name": "python3"
  },
  "language_info": {
   "codemirror_mode": {
    "name": "ipython",
    "version": 3
   },
   "file_extension": ".py",
   "mimetype": "text/x-python",
   "name": "python",
   "nbconvert_exporter": "python",
   "pygments_lexer": "ipython3",
   "version": "3.12.1"
  }
 },
 "nbformat": 4,
 "nbformat_minor": 5
}
