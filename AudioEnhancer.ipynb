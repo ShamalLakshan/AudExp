{
 "cells": [
  {
   "cell_type": "markdown",
   "id": "cb824c28",
   "metadata": {},
   "source": [
    "# Audio Enhancer Using Spectral Painting"
   ]
  },
  {
   "cell_type": "code",
   "execution_count": 14,
   "id": "04094aa2-5465-4112-880d-63c0545a2feb",
   "metadata": {},
   "outputs": [],
   "source": [
    "import librosa\n",
    "import numpy as np\n",
    "import soundfile as sf\n",
    "import matplotlib.pyplot as plt"
   ]
  },
  {
   "cell_type": "code",
   "execution_count": 15,
   "id": "ae8b6ec7",
   "metadata": {},
   "outputs": [],
   "source": [
    "# def enhance_vocals(audio_path, output_path, method=\"harmonic\"):\n",
    "#     \"\"\"\n",
    "#     Enhances vocals in an audio file using two methods.\n",
    "#     Args:\n",
    "#         audio_path: Path to the input audio file.\n",
    "#         output_path: Path to save the modified audio file.\n",
    "#         method (optional): Either \"harmonic\" (default) for harmonic masking or \"reconstruction\" for MCA-based reconstruction.\n",
    "#     \"\"\"\n",
    "#     # Load audio\n",
    "#     y, sr = librosa.load(audio_path, dtype=np.float32)\n",
    "    \n",
    "#     # Vocal enhancement using chosen method\n",
    "#     if method == \"harmonic\":\n",
    "#         # Harmonic masking for vocal enhancement\n",
    "#         y_harmonic = librosa.effects.harmonic(y)\n",
    "#         mask = np.abs(librosa.stft(y_harmonic)) / np.abs(librosa.stft(y) + 1e-16)\n",
    "#     elif method == \"reconstruction\":\n",
    "#         # MCA-based vocal reconstruction (alternative approach)\n",
    "#         y_vocal = librosa.effects.mx.separate(y)  # Using mx.separate instead of 麦克风分离\n",
    "#         mask = np.abs(librosa.stft(y_vocal)) / (np.abs(librosa.stft(y)) + 1e-16)\n",
    "#     else:\n",
    "#         raise ValueError(\"Invalid method. Choose 'harmonic' or 'reconstruction'.\")\n",
    "    \n",
    "#     # Apply mask and reconstruct audio\n",
    "#     stft = librosa.stft(y)\n",
    "#     stft_enhanced = stft * mask\n",
    "#     y_enhanced = librosa.istft(stft_enhanced)\n",
    "    \n",
    "#     # Save the modified audio\n",
    "#     sf.write(output_path, y_enhanced, sr)"
   ]
  },
  {
   "cell_type": "code",
   "execution_count": null,
   "id": "6f28bc05",
   "metadata": {},
   "outputs": [],
   "source": [
    "def enhance_vocals(audio_path, output_path, method=\"harmonic\", intensity=1.0):\n",
    "    \"\"\"\n",
    "    Enhances vocals in an audio file using two methods.\n",
    "    Args:\n",
    "        audio_path: Path to the input audio file.\n",
    "        output_path: Path to save the modified audio file.\n",
    "        method (optional): Either \"harmonic\" (default) for harmonic masking or \"reconstruction\" for MCA-based reconstruction.\n",
    "        intensity (optional): Float between 0.0 and 1.0 controlling the strength of the effect. Default is 1.0.\n",
    "    \"\"\"\n",
    "    # Load audio\n",
    "    y, sr = librosa.load(audio_path, dtype=np.float32)\n",
    "    \n",
    "    # Ensure intensity is between 0 and 1\n",
    "    intensity = np.clip(intensity, 0.0, 0.5) # 0.0 - 1.0 = Full Effect \n",
    "    \n",
    "    # Vocal enhancement using chosen method\n",
    "    if method == \"harmonic\":\n",
    "        y_harmonic = librosa.effects.harmonic(y)\n",
    "        mask = np.abs(librosa.stft(y_harmonic)) / (np.abs(librosa.stft(y)) + 1e-16)\n",
    "    elif method == \"reconstruction\":\n",
    "        y_vocal = librosa.effects.mx.separate(y)\n",
    "        mask = np.abs(librosa.stft(y_vocal)) / (np.abs(librosa.stft(y)) + 1e-16)\n",
    "    else:\n",
    "        raise ValueError(\"Invalid method. Choose 'harmonic' or 'reconstruction'.\")\n",
    "    \n",
    "    # Adjust mask based on intensity\n",
    "    mask = 1 + (mask - 1) * intensity\n",
    "    \n",
    "    # Apply mask and reconstruct audio\n",
    "    stft = librosa.stft(y)\n",
    "    stft_enhanced = stft * mask\n",
    "    y_enhanced = librosa.istft(stft_enhanced)\n",
    "    \n",
    "    # Save the modified audio\n",
    "    sf.write(output_path, y_enhanced, sr)"
   ]
  },
  {
   "cell_type": "code",
   "execution_count": 16,
   "id": "6919eaf3",
   "metadata": {},
   "outputs": [],
   "source": [
    "# Example usage\n",
    "audio_path = \"./Test1.wav\"  # Replace with your audio file path"
   ]
  },
  {
   "cell_type": "code",
   "execution_count": 17,
   "id": "760ece07",
   "metadata": {},
   "outputs": [],
   "source": [
    "output_path = \"enhanced_vocals.wav\""
   ]
  },
  {
   "cell_type": "code",
   "execution_count": 18,
   "id": "6a3f47c0",
   "metadata": {},
   "outputs": [],
   "source": [
    "method = \"harmonic\"  # Choose \"harmonic\" or \"reconstruction\"\n"
   ]
  },
  {
   "cell_type": "code",
   "execution_count": 19,
   "id": "e6d5126e",
   "metadata": {},
   "outputs": [
    {
     "name": "stdout",
     "output_type": "stream",
     "text": [
      "Vocals enhanced! Output saved to enhanced_vocals.wav\n"
     ]
    }
   ],
   "source": [
    "enhance_vocals(audio_path, output_path, method)\n",
    "print(\"Vocals enhanced! Output saved to\", output_path)\n"
   ]
  }
 ],
 "metadata": {
  "kernelspec": {
   "display_name": "Python 3 (ipykernel)",
   "language": "python",
   "name": "python3"
  },
  "language_info": {
   "codemirror_mode": {
    "name": "ipython",
    "version": 3
   },
   "file_extension": ".py",
   "mimetype": "text/x-python",
   "name": "python",
   "nbconvert_exporter": "python",
   "pygments_lexer": "ipython3",
   "version": "3.12.1"
  }
 },
 "nbformat": 4,
 "nbformat_minor": 5
}
